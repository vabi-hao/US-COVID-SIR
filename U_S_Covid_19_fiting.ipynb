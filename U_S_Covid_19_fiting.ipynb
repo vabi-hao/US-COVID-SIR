{
 "cells": [
  {
   "cell_type": "code",
   "execution_count": 4,
   "metadata": {},
   "outputs": [
    {
     "data": {
      "text/plain": [
       "array([0.26682244, 2.92389114])"
      ]
     },
     "execution_count": 4,
     "metadata": {},
     "output_type": "execute_result"
    }
   ],
   "source": [
    "# fit the U.S. Covid-19 growth\n",
    "# define and data input\n",
    "import numpy as np\n",
    "import matplotlib.pyplot as plt\n",
    "from tabulate import tabulate as tb\n",
    "import datetime as dt\n",
    "from sympy import symbols, E\n",
    "y = np.array([53,57,59,60,66,71,91,109,130,161,236,336,452,573,751,1041,1288,1712,2279,2971,3682,4663,6471,9286])\n",
    "y.size\n",
    "x = np.arange(y.size)\n",
    "fitres = np.polyfit(x, np.log(y), 1,w=np.sqrt(y))\n",
    "fitres"
   ]
  },
  {
   "cell_type": "code",
   "execution_count": 5,
   "metadata": {},
   "outputs": [
    {
     "data": {
      "image/png": "[encoded data removed]",
      "text/plain": [
       "<Figure size 720x288 with 2 Axes>"
      ]
     },
     "metadata": {
      "needs_background": "light"
     },
     "output_type": "display_data"
    }
   ],
   "source": [
    "#plot section\n",
    "plt.figure(figsize=(10,4))\n",
    "plt.subplot(121)\n",
    "t = np.arange(y.size+1)\n",
    "q = np.exp(fitres[0]*t)*np.exp(fitres[1])\n",
    "line_real, = plt.plot(x,y,'ro',label = 'real')\n",
    "line_predict, = plt.plot(t,q,label = 'predict')\n",
    "plt.xlabel('days from 2-24')\n",
    "plt.ylabel('cases')\n",
    "plt.legend(handles=[line_real, line_predict])\n",
    "plt.grid()\n",
    "plt.title('linear')\n",
    "plt.subplot(122)\n",
    "t = np.arange(y.size+1)\n",
    "q = np.exp(fitres[0]*t)*np.exp(fitres[1])\n",
    "line_real, = plt.plot(x,y,'ro',label = 'real')\n",
    "line_predict, = plt.plot(t,q,label = 'predict')\n",
    "plt.xlabel('days from 2-24')\n",
    "plt.ylabel('cases')\n",
    "plt.yscale('log')\n",
    "plt.legend(handles=[line_real, line_predict])\n",
    "plt.grid()\n",
    "plt.title('log')\n",
    "plt.show()"
   ]
  },
  {
   "cell_type": "code",
   "execution_count": 6,
   "metadata": {},
   "outputs": [
    {
     "name": "stdout",
     "output_type": "stream",
     "text": [
      "| days       |   Total cases |    fit |\n",
      "|------------+---------------+--------|\n",
      "| 2020-02-24 |            53 |     18 |\n",
      "| 2020-02-25 |            57 |     24 |\n",
      "| 2020-02-26 |            59 |     31 |\n",
      "| 2020-02-27 |            60 |     41 |\n",
      "| 2020-02-28 |            66 |     54 |\n",
      "| 2020-02-29 |            71 |     70 |\n",
      "| 2020-03-01 |            91 |     92 |\n",
      "| 2020-03-02 |           109 |    120 |\n",
      "| 2020-03-03 |           130 |    157 |\n",
      "| 2020-03-04 |           161 |    205 |\n",
      "| 2020-03-05 |           236 |    268 |\n",
      "| 2020-03-06 |           336 |    350 |\n",
      "| 2020-03-07 |           452 |    457 |\n",
      "| 2020-03-08 |           573 |    597 |\n",
      "| 2020-03-09 |           751 |    780 |\n",
      "| 2020-03-10 |          1041 |   1018 |\n",
      "| 2020-03-11 |          1288 |   1330 |\n",
      "| 2020-03-12 |          1712 |   1736 |\n",
      "| 2020-03-13 |          2279 |   2268 |\n",
      "| 2020-03-14 |          2971 |   2961 |\n",
      "| 2020-03-15 |          3682 |   3867 |\n",
      "| 2020-03-16 |          4663 |   5050 |\n",
      "| 2020-03-17 |          6471 |   6594 |\n",
      "| 2020-03-18 |          9286 |   8611 |\n",
      "| 2020-03-19 |             0 |  11244 |\n",
      "| 2020-03-20 |             0 |  14683 |\n",
      "| 2020-03-21 |             0 |  19173 |\n",
      "| 2020-03-22 |             0 |  25036 |\n",
      "| 2020-03-23 |             0 |  32693 |\n",
      "| 2020-03-24 |             0 |  42690 |\n",
      "| 2020-03-25 |             0 |  55746 |\n",
      "| 2020-03-26 |             0 |  72793 |\n",
      "| 2020-03-27 |             0 |  95054 |\n",
      "| 2020-03-28 |             0 | 124123 |\n"
     ]
    }
   ],
   "source": [
    "tp = np.zeros((y.size+10,3))\n",
    "for i in range(y.size+10):\n",
    "    tp[i,0] = i\n",
    "    tp[i,2] = int(np.exp(fitres[0]*i)*np.exp(fitres[1]))\n",
    "    if i < y.size:\n",
    "        tp[i,1] = y[i]\n",
    "        \n",
    "tpp=tp.tolist()\n",
    "\n",
    "for i in range(y.size+10):\n",
    "    tpp[i][0] = (dt.date(2020,2,24)+dt.timedelta(days = i)).isoformat()\n",
    "print(tb(tpp, headers=['days', 'Total cases','fit'],tablefmt='orgtbl'))"
   ]
  },
  {
   "cell_type": "code",
   "execution_count": 7,
   "metadata": {},
   "outputs": [
    {
     "data": {
      "text/plain": [
       "array([  12.55524599,   16.2699987 ,   21.08384477,   27.32197578,\n",
       "         35.40579855,   45.8814026 ,   59.45645039,   77.04798225,\n",
       "         99.84436557,  129.38557306,  167.66721308,  217.27533971,\n",
       "        281.56114948,  364.86736601,  472.82160563,  612.71654189,\n",
       "        794.00255029, 1028.92611308, 1333.3571105 , 1727.86088478,\n",
       "       2239.08749849, 2901.5720363 ])"
      ]
     },
     "execution_count": 7,
     "metadata": {},
     "output_type": "execute_result"
    }
   ],
   "source": [
    "q = np.exp(fitres[0]*(t-2))*np.exp(fitres[1])\n",
    "q"
   ]
  },
  {
   "cell_type": "code",
   "execution_count": null,
   "metadata": {},
   "outputs": [],
   "source": []
  }
 ],
 "metadata": {
  "kernelspec": {
   "display_name": "Python 3",
   "language": "python",
   "name": "python3"
  },
  "language_info": {
   "codemirror_mode": {
    "name": "ipython",
    "version": 3
   },
   "file_extension": ".py",
   "mimetype": "text/x-python",
   "name": "python",
   "nbconvert_exporter": "python",
   "pygments_lexer": "ipython3",
   "version": "3.8.2"
  }
 },
 "nbformat": 4,
 "nbformat_minor": 4
}
